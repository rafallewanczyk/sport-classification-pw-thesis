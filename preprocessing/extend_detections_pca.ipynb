{
 "cells": [
  {
   "cell_type": "raw",
   "source": [],
   "metadata": {
    "collapsed": false,
    "pycharm": {
     "name": ""
    }
   }
  },
  {
   "cell_type": "code",
   "execution_count": 1,
   "outputs": [],
   "source": [
    "from dataset.svw import SVW\n",
    "from tqdm import tqdm\n",
    "\n",
    "svw = SVW()\n",
    "\n",
    "videos = svw._get_filtered_videos()"
   ],
   "metadata": {
    "collapsed": false,
    "ExecuteTime": {
     "start_time": "2023-06-20T20:33:28.759150Z",
     "end_time": "2023-06-20T20:33:29.229813Z"
    }
   }
  },
  {
   "cell_type": "code",
   "execution_count": 3,
   "outputs": [],
   "source": [
    "from preprocessing.video import Video\n",
    "import cv2\n",
    "import numpy as np\n",
    "\n",
    "\n",
    "def get_video_as_array(v: Video):\n",
    "    cap = cv2.VideoCapture(v.video_reshaped_path.as_posix())\n",
    "    video = [np.zeros((1080, 1920, 3))]\n",
    "    while (cap.isOpened()):\n",
    "        ret, img = cap.read()\n",
    "        if not ret:\n",
    "            break\n",
    "        video.append(img)\n",
    "    cap.release()\n",
    "    return np.array(video)\n"
   ],
   "metadata": {
    "collapsed": false,
    "ExecuteTime": {
     "start_time": "2023-06-20T20:33:41.995614Z",
     "end_time": "2023-06-20T20:33:42.006104Z"
    }
   }
  },
  {
   "cell_type": "code",
   "execution_count": 4,
   "outputs": [],
   "source": [
    "import pickle as pkl\n",
    "\n",
    "with open('/home/rafa/PycharmProjects/sdm2-ready-code/preprocessing/pca.pkl', 'rb') as file:\n",
    "    pca = pkl.load(file)"
   ],
   "metadata": {
    "collapsed": false,
    "ExecuteTime": {
     "start_time": "2023-06-20T20:33:45.065109Z",
     "end_time": "2023-06-20T20:33:45.208410Z"
    }
   }
  },
  {
   "cell_type": "code",
   "execution_count": 5,
   "outputs": [
    {
     "name": "stderr",
     "output_type": "stream",
     "text": [
      "  1%|          | 37/3933 [00:00<00:29, 131.57it/s, path=/home/rafa/SVW/Videos/highjump/1327___bede751ebebd48eebc7ddc3b672f38e4.mp4, skipped=5, frames_num=50]    \n"
     ]
    },
    {
     "ename": "KeyError",
     "evalue": "'frame_id'",
     "output_type": "error",
     "traceback": [
      "\u001B[0;31m---------------------------------------------------------------------------\u001B[0m",
      "\u001B[0;31mKeyError\u001B[0m                                  Traceback (most recent call last)",
      "File \u001B[0;32m~/anaconda3/envs/ml/lib/python3.8/site-packages/pandas/core/indexes/base.py:3802\u001B[0m, in \u001B[0;36mIndex.get_loc\u001B[0;34m(self, key, method, tolerance)\u001B[0m\n\u001B[1;32m   3801\u001B[0m \u001B[38;5;28;01mtry\u001B[39;00m:\n\u001B[0;32m-> 3802\u001B[0m     \u001B[38;5;28;01mreturn\u001B[39;00m \u001B[38;5;28;43mself\u001B[39;49m\u001B[38;5;241;43m.\u001B[39;49m\u001B[43m_engine\u001B[49m\u001B[38;5;241;43m.\u001B[39;49m\u001B[43mget_loc\u001B[49m\u001B[43m(\u001B[49m\u001B[43mcasted_key\u001B[49m\u001B[43m)\u001B[49m\n\u001B[1;32m   3803\u001B[0m \u001B[38;5;28;01mexcept\u001B[39;00m \u001B[38;5;167;01mKeyError\u001B[39;00m \u001B[38;5;28;01mas\u001B[39;00m err:\n",
      "File \u001B[0;32m~/anaconda3/envs/ml/lib/python3.8/site-packages/pandas/_libs/index.pyx:138\u001B[0m, in \u001B[0;36mpandas._libs.index.IndexEngine.get_loc\u001B[0;34m()\u001B[0m\n",
      "File \u001B[0;32m~/anaconda3/envs/ml/lib/python3.8/site-packages/pandas/_libs/index.pyx:165\u001B[0m, in \u001B[0;36mpandas._libs.index.IndexEngine.get_loc\u001B[0;34m()\u001B[0m\n",
      "File \u001B[0;32mpandas/_libs/hashtable_class_helper.pxi:5745\u001B[0m, in \u001B[0;36mpandas._libs.hashtable.PyObjectHashTable.get_item\u001B[0;34m()\u001B[0m\n",
      "File \u001B[0;32mpandas/_libs/hashtable_class_helper.pxi:5753\u001B[0m, in \u001B[0;36mpandas._libs.hashtable.PyObjectHashTable.get_item\u001B[0;34m()\u001B[0m\n",
      "\u001B[0;31mKeyError\u001B[0m: 'frame_id'",
      "\nThe above exception was the direct cause of the following exception:\n",
      "\u001B[0;31mKeyError\u001B[0m                                  Traceback (most recent call last)",
      "Cell \u001B[0;32mIn[5], line 13\u001B[0m\n\u001B[1;32m     10\u001B[0m \u001B[38;5;28;01mexcept\u001B[39;00m:\n\u001B[1;32m     11\u001B[0m     \u001B[38;5;28;01mcontinue\u001B[39;00m\n\u001B[0;32m---> 13\u001B[0m unique_frames \u001B[38;5;241m=\u001B[39m \u001B[43mdf\u001B[49m\u001B[43m[\u001B[49m\u001B[43mDetectionDto\u001B[49m\u001B[38;5;241;43m.\u001B[39;49m\u001B[43mFRAME_ID\u001B[49m\u001B[43m]\u001B[49m\u001B[38;5;241m.\u001B[39munique()\n\u001B[1;32m     14\u001B[0m progress\u001B[38;5;241m.\u001B[39mset_postfix({\u001B[38;5;124m'\u001B[39m\u001B[38;5;124mpath\u001B[39m\u001B[38;5;124m'\u001B[39m: vid\u001B[38;5;241m.\u001B[39mvideo_path\u001B[38;5;241m.\u001B[39mas_posix(), \u001B[38;5;124m'\u001B[39m\u001B[38;5;124mskipped\u001B[39m\u001B[38;5;124m'\u001B[39m: skipped, \u001B[38;5;124m'\u001B[39m\u001B[38;5;124mframes_num\u001B[39m\u001B[38;5;124m'\u001B[39m: \u001B[38;5;28mlen\u001B[39m(unique_frames)})\n\u001B[1;32m     15\u001B[0m save_path \u001B[38;5;241m=\u001B[39m Video\u001B[38;5;241m.\u001B[39m_add_suffix_to_path(vid_path, \u001B[38;5;124m'\u001B[39m\u001B[38;5;124m_detections_avg_big_ext.pkl\u001B[39m\u001B[38;5;124m'\u001B[39m)\n",
      "File \u001B[0;32m~/anaconda3/envs/ml/lib/python3.8/site-packages/pandas/core/frame.py:3807\u001B[0m, in \u001B[0;36mDataFrame.__getitem__\u001B[0;34m(self, key)\u001B[0m\n\u001B[1;32m   3805\u001B[0m \u001B[38;5;28;01mif\u001B[39;00m \u001B[38;5;28mself\u001B[39m\u001B[38;5;241m.\u001B[39mcolumns\u001B[38;5;241m.\u001B[39mnlevels \u001B[38;5;241m>\u001B[39m \u001B[38;5;241m1\u001B[39m:\n\u001B[1;32m   3806\u001B[0m     \u001B[38;5;28;01mreturn\u001B[39;00m \u001B[38;5;28mself\u001B[39m\u001B[38;5;241m.\u001B[39m_getitem_multilevel(key)\n\u001B[0;32m-> 3807\u001B[0m indexer \u001B[38;5;241m=\u001B[39m \u001B[38;5;28;43mself\u001B[39;49m\u001B[38;5;241;43m.\u001B[39;49m\u001B[43mcolumns\u001B[49m\u001B[38;5;241;43m.\u001B[39;49m\u001B[43mget_loc\u001B[49m\u001B[43m(\u001B[49m\u001B[43mkey\u001B[49m\u001B[43m)\u001B[49m\n\u001B[1;32m   3808\u001B[0m \u001B[38;5;28;01mif\u001B[39;00m is_integer(indexer):\n\u001B[1;32m   3809\u001B[0m     indexer \u001B[38;5;241m=\u001B[39m [indexer]\n",
      "File \u001B[0;32m~/anaconda3/envs/ml/lib/python3.8/site-packages/pandas/core/indexes/base.py:3804\u001B[0m, in \u001B[0;36mIndex.get_loc\u001B[0;34m(self, key, method, tolerance)\u001B[0m\n\u001B[1;32m   3802\u001B[0m     \u001B[38;5;28;01mreturn\u001B[39;00m \u001B[38;5;28mself\u001B[39m\u001B[38;5;241m.\u001B[39m_engine\u001B[38;5;241m.\u001B[39mget_loc(casted_key)\n\u001B[1;32m   3803\u001B[0m \u001B[38;5;28;01mexcept\u001B[39;00m \u001B[38;5;167;01mKeyError\u001B[39;00m \u001B[38;5;28;01mas\u001B[39;00m err:\n\u001B[0;32m-> 3804\u001B[0m     \u001B[38;5;28;01mraise\u001B[39;00m \u001B[38;5;167;01mKeyError\u001B[39;00m(key) \u001B[38;5;28;01mfrom\u001B[39;00m \u001B[38;5;21;01merr\u001B[39;00m\n\u001B[1;32m   3805\u001B[0m \u001B[38;5;28;01mexcept\u001B[39;00m \u001B[38;5;167;01mTypeError\u001B[39;00m:\n\u001B[1;32m   3806\u001B[0m     \u001B[38;5;66;03m# If we have a listlike key, _check_indexing_error will raise\u001B[39;00m\n\u001B[1;32m   3807\u001B[0m     \u001B[38;5;66;03m#  InvalidIndexError. Otherwise we fall through and re-raise\u001B[39;00m\n\u001B[1;32m   3808\u001B[0m     \u001B[38;5;66;03m#  the TypeError.\u001B[39;00m\n\u001B[1;32m   3809\u001B[0m     \u001B[38;5;28mself\u001B[39m\u001B[38;5;241m.\u001B[39m_check_indexing_error(key)\n",
      "\u001B[0;31mKeyError\u001B[0m: 'frame_id'"
     ]
    }
   ],
   "source": [
    "from preprocessing.dto.detection_dto import DetectionDto\n",
    "from time import time\n",
    "\n",
    "progress = tqdm(videos)\n",
    "skipped = 0\n",
    "for vid_path in progress:\n",
    "    vid = Video(vid_path)\n",
    "    try:\n",
    "        df = vid.build_detections()\n",
    "    except:\n",
    "        continue\n",
    "\n",
    "    unique_frames = df[DetectionDto.FRAME_ID].unique()\n",
    "    progress.set_postfix({'path': vid.video_path.as_posix(), 'skipped': skipped, 'frames_num': len(unique_frames)})\n",
    "    save_path = Video._add_suffix_to_path(vid_path, '_detections_avg_big_ext.pkl')\n",
    "    if save_path.exists():\n",
    "        continue\n",
    "\n",
    "    if df.empty:\n",
    "        skipped += 1\n",
    "        with open('/home/rafa/SVW/skipped1.txt', 'a') as file:\n",
    "            file.write(f'{vid_path.as_posix()} \\t - empty \\n')\n",
    "        continue\n",
    "\n",
    "    if df.shape[0] > 2300:\n",
    "        skipped += 1\n",
    "        with open('/home/rafa/SVW/skipped1.txt', 'a') as file:\n",
    "            file.write(f'{vid_path.as_posix()} \\t - long \\n')\n",
    "        continue\n",
    "\n",
    "    start_time = time()\n",
    "    # vid_as_arr = get_video_as_array(vid)[unique_frames]\n",
    "    reduced = pca.transform(np.array(df['visual_features'].to_list()))\n",
    "    df['visual_features_pca'] = [red for red in reduced]\n",
    "    progress.set_postfix({'path': vid_path.as_posix(), 'detections_num': df.shape, 'pca_time': time() - start_time})\n",
    "\n",
    "    # rois = np.array(df['visual_features'].to_list())\n",
    "    # roi_fun = np.vectorize(get_roi)\n",
    "    # vid_frames = roi_fun(vid_as_arr[unique_frames])\n",
    "    #\n",
    "    # preds = mobilenet.predict(vid_frames, verbose=False)\n",
    "    # preds_list = [val for val in preds]\n",
    "    # df['visual_features'] = preds_list\n",
    "    df.to_pickle(save_path)\n",
    "\n",
    "\n"
   ],
   "metadata": {
    "collapsed": false,
    "ExecuteTime": {
     "start_time": "2023-05-15T18:33:03.646498Z",
     "end_time": "2023-05-15T18:33:40.482544Z"
    }
   }
  },
  {
   "cell_type": "code",
   "execution_count": 5,
   "outputs": [
    {
     "data": {
      "text/plain": "   a  c  aa  x\n0  1  4   1  q\n1  2  5   2  w",
      "text/html": "<div>\n<style scoped>\n    .dataframe tbody tr th:only-of-type {\n        vertical-align: middle;\n    }\n\n    .dataframe tbody tr th {\n        vertical-align: top;\n    }\n\n    .dataframe thead th {\n        text-align: right;\n    }\n</style>\n<table border=\"1\" class=\"dataframe\">\n  <thead>\n    <tr style=\"text-align: right;\">\n      <th></th>\n      <th>a</th>\n      <th>c</th>\n      <th>aa</th>\n      <th>x</th>\n    </tr>\n  </thead>\n  <tbody>\n    <tr>\n      <th>0</th>\n      <td>1</td>\n      <td>4</td>\n      <td>1</td>\n      <td>q</td>\n    </tr>\n    <tr>\n      <th>1</th>\n      <td>2</td>\n      <td>5</td>\n      <td>2</td>\n      <td>w</td>\n    </tr>\n  </tbody>\n</table>\n</div>"
     },
     "execution_count": 5,
     "metadata": {},
     "output_type": "execute_result"
    }
   ],
   "source": [
    "import pandas as pd\n",
    "\n",
    "a = pd.DataFrame({'a': [1, 2, 3], 'c': [4, 5, 5]})\n",
    "b = pd.DataFrame({'aa': [1, 2], 'x': ['q', 'w']})\n",
    "joined = a.merge(b,left_on='a', right_on='aa')\n",
    "joined"
   ],
   "metadata": {
    "collapsed": false,
    "ExecuteTime": {
     "start_time": "2023-05-15T18:33:40.526252Z",
     "end_time": "2023-05-15T18:33:40.526515Z"
    }
   }
  },
  {
   "cell_type": "code",
   "execution_count": 5,
   "outputs": [],
   "source": [],
   "metadata": {
    "collapsed": false,
    "ExecuteTime": {
     "start_time": "2023-05-15T18:33:40.526305Z",
     "end_time": "2023-05-15T18:33:40.526634Z"
    }
   }
  }
 ],
 "metadata": {
  "kernelspec": {
   "display_name": "Python 3",
   "language": "python",
   "name": "python3"
  },
  "language_info": {
   "codemirror_mode": {
    "name": "ipython",
    "version": 2
   },
   "file_extension": ".py",
   "mimetype": "text/x-python",
   "name": "python",
   "nbconvert_exporter": "python",
   "pygments_lexer": "ipython2",
   "version": "2.7.6"
  }
 },
 "nbformat": 4,
 "nbformat_minor": 0
}
