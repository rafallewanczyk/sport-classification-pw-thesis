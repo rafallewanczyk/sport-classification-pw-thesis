{
 "cells": [
  {
   "cell_type": "raw",
   "source": [],
   "metadata": {
    "collapsed": false,
    "pycharm": {
     "name": ""
    }
   }
  },
  {
   "cell_type": "code",
   "execution_count": 1,
   "outputs": [],
   "source": [
    "import pandas as pd\n",
    "\n",
    "from dataset.svw import SVW\n",
    "from tqdm import tqdm\n",
    "svw = SVW()\n",
    "\n",
    "videos = svw._get_filtered_videos()"
   ],
   "metadata": {
    "collapsed": false,
    "ExecuteTime": {
     "start_time": "2023-05-14T18:51:33.491633Z",
     "end_time": "2023-05-14T18:51:33.948158Z"
    }
   }
  },
  {
   "cell_type": "code",
   "execution_count": 2,
   "outputs": [],
   "source": [
    "from preprocessing.video import Video\n",
    "import cv2\n",
    "import numpy as np\n",
    "\n",
    "def get_video_as_array(v: Video, frame_ids):\n",
    "    cap = cv2.VideoCapture(v.video_reshaped_path.as_posix())\n",
    "    video = []\n",
    "    frame_id = 1\n",
    "    while (cap.isOpened()):\n",
    "        ret, img = cap.read()\n",
    "        if not ret:\n",
    "            break\n",
    "        if frame_id in frame_ids:\n",
    "            video.append(img)\n",
    "        frame_id +=1\n",
    "    cap.release()\n",
    "    return video\n"
   ],
   "metadata": {
    "collapsed": false,
    "ExecuteTime": {
     "start_time": "2023-05-14T18:51:33.951210Z",
     "end_time": "2023-05-14T18:51:33.968188Z"
    }
   }
  },
  {
   "cell_type": "code",
   "execution_count": 3,
   "outputs": [
    {
     "name": "stderr",
     "output_type": "stream",
     "text": [
      "2023-05-14 18:51:34.695206: W tensorflow/compiler/tf2tensorrt/utils/py_utils.cc:38] TF-TRT Warning: Could not find TensorRT\n"
     ]
    },
    {
     "name": "stdout",
     "output_type": "stream",
     "text": [
      "WARNING:tensorflow:`input_shape` is undefined or non-square, or `rows` is not 224. Weights for input shape (224, 224) will be loaded as the default.\n"
     ]
    }
   ],
   "source": [
    "import tensorflow as tf\n",
    "from tensorflow.keras.applications.mobilenet_v3 import preprocess_input, decode_predictions\n",
    "import pickle as pkl\n",
    "\n",
    "mobilenet = tf.keras.applications.MobileNetV3Large(\n",
    "    input_shape=None,\n",
    "    alpha=1.0,\n",
    "    minimalistic=False,\n",
    "    include_top=False,\n",
    "    weights=\"imagenet\",\n",
    "    input_tensor=None,\n",
    "    classes=1000,\n",
    "    pooling='avg',\n",
    "    dropout_rate=0.2,\n",
    "    include_preprocessing=True,\n",
    ")\n",
    "\n",
    "def get_roi(frame):\n",
    "    if frame.size == 0:\n",
    "        return np.zeros((224, 224, 3))\n",
    "\n",
    "    roi = cv2.resize(frame, (224, 224))\n",
    "    return np.array(roi)\n",
    "\n",
    "with open('/home/rafa/PycharmProjects/sdm2-ready-code/preprocessing/pca.pkl', 'rb') as file:\n",
    "    pca = pkl.load(file)\n",
    "\n"
   ],
   "metadata": {
    "collapsed": false,
    "ExecuteTime": {
     "start_time": "2023-05-14T18:51:33.970190Z",
     "end_time": "2023-05-14T18:51:36.990526Z"
    }
   }
  },
  {
   "cell_type": "code",
   "execution_count": 3,
   "outputs": [],
   "source": [],
   "metadata": {
    "collapsed": false,
    "ExecuteTime": {
     "start_time": "2023-05-14T18:51:36.991880Z",
     "end_time": "2023-05-14T18:51:36.993215Z"
    }
   }
  },
  {
   "cell_type": "code",
   "execution_count": 4,
   "outputs": [
    {
     "name": "stderr",
     "output_type": "stream",
     "text": [
      "100%|██████████| 3933/3933 [57:39<00:00,  1.14it/s, path=/home/rafa/SVW/Videos/baseball/2423___9845e29ab87745b082bfc50800996641.mp4, detections_num=(142,), skipped=0]         \n"
     ]
    }
   ],
   "source": [
    "from preprocessing.dto.detection_dto import DetectionDto\n",
    "from pathlib import Path\n",
    "from time import time\n",
    "from tqdm import tqdm\n",
    "progress = tqdm(videos)\n",
    "skipped = 0\n",
    "\n",
    "for vid_path in progress:\n",
    "    vid = Video(vid_path)\n",
    "    try:\n",
    "        df = vid.build_detections()\n",
    "    except:\n",
    "        continue\n",
    "\n",
    "    frames = df[DetectionDto.FRAME_ID].unique()\n",
    "    progress.set_postfix({'path':vid.video_path.as_posix(), 'detections_num': frames.shape, 'skipped': skipped})\n",
    "    save_path = Video._add_suffix_to_path(vid_path, '_detections_big_ext.pkl')\n",
    "    if save_path.exists() :\n",
    "        continue\n",
    "\n",
    "    if df.empty:\n",
    "        skipped += 1\n",
    "        with open('/home/rafa/SVW/skipped1.txt', 'a') as file:\n",
    "            file.write(f'{vid_path.as_posix()} \\t - empty \\n')\n",
    "        continue\n",
    "\n",
    "    if  df.shape[0] > 2300:\n",
    "        skipped += 1\n",
    "        with open('/home/rafa/SVW/skipped1.txt', 'a') as file:\n",
    "            file.write(f'{vid_path.as_posix()} \\t - long \\n')\n",
    "        continue\n",
    "\n",
    "    start_time = time()\n",
    "    vid_as_arr = get_video_as_array(vid, frames)\n",
    "\n",
    "    resized = np.array([get_roi(single_frame) for single_frame in vid_as_arr])\n",
    "\n",
    "    preds = mobilenet.predict(resized, verbose=False)\n",
    "    preds_red = pca.transform(preds)\n",
    "    preds_list = [val for val in preds]\n",
    "    preds_red_list = [val for val in preds_red]\n",
    "    preds_df = pd.DataFrame({'right_frame_id': frames, 'frame_vis_features': preds_list, 'frame_vis_features_pca': preds_red_list})\n",
    "    ext_df = df.merge(preds_df, 'inner', left_on='frame_id', right_on='right_frame_id')\n",
    "    ext_df = ext_df.drop('right_frame_id', axis=1)\n",
    "    ext_df.to_pickle(save_path)\n",
    "\n",
    "\n"
   ],
   "metadata": {
    "collapsed": false,
    "ExecuteTime": {
     "start_time": "2023-05-14T18:51:36.997616Z",
     "end_time": "2023-05-14T19:49:16.131922Z"
    }
   }
  },
  {
   "cell_type": "code",
   "execution_count": 4,
   "outputs": [],
   "source": [
    "\n"
   ],
   "metadata": {
    "collapsed": false,
    "ExecuteTime": {
     "start_time": "2023-05-14T19:49:16.137353Z",
     "end_time": "2023-05-14T19:49:16.139642Z"
    }
   }
  }
 ],
 "metadata": {
  "kernelspec": {
   "display_name": "Python 3",
   "language": "python",
   "name": "python3"
  },
  "language_info": {
   "codemirror_mode": {
    "name": "ipython",
    "version": 2
   },
   "file_extension": ".py",
   "mimetype": "text/x-python",
   "name": "python",
   "nbconvert_exporter": "python",
   "pygments_lexer": "ipython2",
   "version": "2.7.6"
  }
 },
 "nbformat": 4,
 "nbformat_minor": 0
}
