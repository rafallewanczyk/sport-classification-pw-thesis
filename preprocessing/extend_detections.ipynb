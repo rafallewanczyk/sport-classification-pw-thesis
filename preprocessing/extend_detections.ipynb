{
 "cells": [
  {
   "cell_type": "raw",
   "source": [],
   "metadata": {
    "collapsed": false,
    "pycharm": {
     "name": ""
    }
   }
  },
  {
   "cell_type": "code",
   "execution_count": 1,
   "outputs": [],
   "source": [
    "from dataset.svw import SVW\n",
    "from tqdm import tqdm\n",
    "svw = SVW()\n",
    "\n",
    "videos = svw._get_filtered_videos()"
   ],
   "metadata": {
    "collapsed": false,
    "ExecuteTime": {
     "start_time": "2023-06-20T20:30:32.915108Z",
     "end_time": "2023-06-20T20:30:33.363231Z"
    }
   }
  },
  {
   "cell_type": "code",
   "execution_count": 2,
   "outputs": [],
   "source": [
    "from preprocessing.video import Video\n",
    "import cv2\n",
    "import numpy as np\n",
    "\n",
    "def get_video_as_array(v: Video):\n",
    "    cap = cv2.VideoCapture(v.video_reshaped_path.as_posix())\n",
    "    video = [np.zeros((1080, 1920, 3))]\n",
    "    while (cap.isOpened()):\n",
    "        ret, img = cap.read()\n",
    "        if not ret:\n",
    "            break\n",
    "        video.append(img)\n",
    "    cap.release()\n",
    "    return video\n"
   ],
   "metadata": {
    "collapsed": false,
    "ExecuteTime": {
     "start_time": "2023-06-20T20:30:34.112240Z",
     "end_time": "2023-06-20T20:30:34.135789Z"
    }
   }
  },
  {
   "cell_type": "code",
   "execution_count": 3,
   "outputs": [
    {
     "name": "stderr",
     "output_type": "stream",
     "text": [
      "2023-06-20 20:30:39.548044: W tensorflow/compiler/tf2tensorrt/utils/py_utils.cc:38] TF-TRT Warning: Could not find TensorRT\n"
     ]
    }
   ],
   "source": [
    "import tensorflow as tf\n",
    "\n",
    "mobilenet = tf.keras.applications.MobileNetV3Large(\n",
    "    input_shape=(224, 224, 3),\n",
    "    alpha=1.0,\n",
    "    minimalistic=False,\n",
    "    include_top=False,\n",
    "    weights=\"imagenet\",\n",
    "    input_tensor=None,\n",
    "    classes=1000,\n",
    "    pooling='avg',\n",
    "    dropout_rate=0.2,\n",
    "    include_preprocessing=True,\n",
    ")\n",
    "\n",
    "\n",
    "def get_roi(frame, bbox):\n",
    "    roi = vid_as_arr[frame][int(bbox[1]): int(bbox[1] + bbox[3]),int(bbox[0]): int(bbox[0] + bbox[2])]\n",
    "    if roi.size == 0:\n",
    "        return np.zeros((224, 224, 3))\n",
    "\n",
    "    roi = cv2.resize(roi, (224, 224))\n",
    "    # roi = preprocess_input(roi)\n",
    "    return np.array(roi)\n",
    "\n",
    "\n"
   ],
   "metadata": {
    "collapsed": false,
    "ExecuteTime": {
     "start_time": "2023-06-20T20:30:38.713511Z",
     "end_time": "2023-06-20T20:30:41.726935Z"
    }
   }
  },
  {
   "cell_type": "code",
   "execution_count": 4,
   "outputs": [
    {
     "name": "stdout",
     "output_type": "stream",
     "text": [
      "<class 'pandas.core.frame.DataFrame'>\n",
      "RangeIndex: 124 entries, 0 to 123\n",
      "Data columns (total 7 columns):\n",
      " #   Column        Non-Null Count  Dtype \n",
      "---  ------        --------------  ----- \n",
      " 0   video         124 non-null    object\n",
      " 1   frame_id      124 non-null    int64 \n",
      " 2   bbox          124 non-null    object\n",
      " 3   skeleton      124 non-null    object\n",
      " 4   score         124 non-null    object\n",
      " 5   person_id     124 non-null    int64 \n",
      " 6   unique_color  124 non-null    object\n",
      "dtypes: int64(2), object(5)\n",
      "memory usage: 6.9+ KB\n"
     ]
    }
   ],
   "source": [
    "from pathlib import Path\n",
    "from time import time\n",
    "\n",
    "start_time = time()\n",
    "vid = Video(Path('/home/rafa/SVW/Videos/golf/10___b918ec5abe94452795b4f0f65637bd84.mp4'))\n",
    "vid_as_arr = get_video_as_array(vid)\n",
    "df = vid.build_detections()\n",
    "df.info()\n"
   ],
   "metadata": {
    "collapsed": false,
    "ExecuteTime": {
     "start_time": "2023-06-20T20:30:51.912261Z",
     "end_time": "2023-06-20T20:30:52.212481Z"
    }
   }
  },
  {
   "cell_type": "code",
   "execution_count": 5,
   "outputs": [
    {
     "name": "stdout",
     "output_type": "stream",
     "text": [
      "(124, 224, 224, 3)\n",
      "4/4 [==============================] - 2s 47ms/step\n",
      "(124, 960)\n",
      "5.936913251876831\n"
     ]
    },
    {
     "data": {
      "text/plain": "                                               video  frame_id  \\\n0  /home/rafa/SVW/Videos/golf/10___b918ec5abe9445...         2   \n1  /home/rafa/SVW/Videos/golf/10___b918ec5abe9445...         3   \n2  /home/rafa/SVW/Videos/golf/10___b918ec5abe9445...         4   \n3  /home/rafa/SVW/Videos/golf/10___b918ec5abe9445...         5   \n4  /home/rafa/SVW/Videos/golf/10___b918ec5abe9445...         6   \n\n                   bbox                                           skeleton  \\\n0  [864, 275, 351, 394]  [957.0634, 388.14453, 0.14886431, 960.7271, 37...   \n1  [861, 271, 355, 397]  [970.1158, 347.79108, 0.05066243, 967.2939, 33...   \n2  [857, 275, 354, 392]  [1000.3657, 379.90176, 0.14006604, 1005.20215,...   \n3  [845, 277, 361, 391]  [1026.4132, 379.29807, 0.35073182, 1027.7922, ...   \n4  [837, 267, 361, 401]  [1017.76044, 302.52054, 0.11567607, 1019.4441,...   \n\n        score  person_id         unique_color  \\\n0   0.7550662          1  [82.0, 84.0, 163.0]   \n1  0.79370624          1  [82.0, 84.0, 163.0]   \n2   0.6644652          1  [82.0, 84.0, 163.0]   \n3   0.5797992          1  [82.0, 84.0, 163.0]   \n4  0.49690774          1  [82.0, 84.0, 163.0]   \n\n                                     visual_features  \n0  [12.5666, 1.7153093, 1.4526964, -0.0, 13.61994...  \n1  [14.457539, -0.0, -0.0, -0.0, 13.638592, 3.539...  \n2  [18.578241, 0.062375497, 0.022426415, -0.0, 13...  \n3  [24.100742, 1.1887591, 0.44061238, -0.0, 10.73...  \n4  [22.167377, -0.0, 1.0997992, -0.0, 8.886408, 6...  ",
      "text/html": "<div>\n<style scoped>\n    .dataframe tbody tr th:only-of-type {\n        vertical-align: middle;\n    }\n\n    .dataframe tbody tr th {\n        vertical-align: top;\n    }\n\n    .dataframe thead th {\n        text-align: right;\n    }\n</style>\n<table border=\"1\" class=\"dataframe\">\n  <thead>\n    <tr style=\"text-align: right;\">\n      <th></th>\n      <th>video</th>\n      <th>frame_id</th>\n      <th>bbox</th>\n      <th>skeleton</th>\n      <th>score</th>\n      <th>person_id</th>\n      <th>unique_color</th>\n      <th>visual_features</th>\n    </tr>\n  </thead>\n  <tbody>\n    <tr>\n      <th>0</th>\n      <td>/home/rafa/SVW/Videos/golf/10___b918ec5abe9445...</td>\n      <td>2</td>\n      <td>[864, 275, 351, 394]</td>\n      <td>[957.0634, 388.14453, 0.14886431, 960.7271, 37...</td>\n      <td>0.7550662</td>\n      <td>1</td>\n      <td>[82.0, 84.0, 163.0]</td>\n      <td>[12.5666, 1.7153093, 1.4526964, -0.0, 13.61994...</td>\n    </tr>\n    <tr>\n      <th>1</th>\n      <td>/home/rafa/SVW/Videos/golf/10___b918ec5abe9445...</td>\n      <td>3</td>\n      <td>[861, 271, 355, 397]</td>\n      <td>[970.1158, 347.79108, 0.05066243, 967.2939, 33...</td>\n      <td>0.79370624</td>\n      <td>1</td>\n      <td>[82.0, 84.0, 163.0]</td>\n      <td>[14.457539, -0.0, -0.0, -0.0, 13.638592, 3.539...</td>\n    </tr>\n    <tr>\n      <th>2</th>\n      <td>/home/rafa/SVW/Videos/golf/10___b918ec5abe9445...</td>\n      <td>4</td>\n      <td>[857, 275, 354, 392]</td>\n      <td>[1000.3657, 379.90176, 0.14006604, 1005.20215,...</td>\n      <td>0.6644652</td>\n      <td>1</td>\n      <td>[82.0, 84.0, 163.0]</td>\n      <td>[18.578241, 0.062375497, 0.022426415, -0.0, 13...</td>\n    </tr>\n    <tr>\n      <th>3</th>\n      <td>/home/rafa/SVW/Videos/golf/10___b918ec5abe9445...</td>\n      <td>5</td>\n      <td>[845, 277, 361, 391]</td>\n      <td>[1026.4132, 379.29807, 0.35073182, 1027.7922, ...</td>\n      <td>0.5797992</td>\n      <td>1</td>\n      <td>[82.0, 84.0, 163.0]</td>\n      <td>[24.100742, 1.1887591, 0.44061238, -0.0, 10.73...</td>\n    </tr>\n    <tr>\n      <th>4</th>\n      <td>/home/rafa/SVW/Videos/golf/10___b918ec5abe9445...</td>\n      <td>6</td>\n      <td>[837, 267, 361, 401]</td>\n      <td>[1017.76044, 302.52054, 0.11567607, 1019.4441,...</td>\n      <td>0.49690774</td>\n      <td>1</td>\n      <td>[82.0, 84.0, 163.0]</td>\n      <td>[22.167377, -0.0, 1.0997992, -0.0, 8.886408, 6...</td>\n    </tr>\n  </tbody>\n</table>\n</div>"
     },
     "execution_count": 5,
     "metadata": {},
     "output_type": "execute_result"
    }
   ],
   "source": [
    "frames = df['frame_id'].to_list()\n",
    "bboxes = df['bbox'].to_list()\n",
    "rois = np.array([get_roi(frame, bbox) for frame, bbox in zip(frames, bboxes)])\n",
    "print(rois.shape)\n",
    "preds = mobilenet.predict(rois)\n",
    "print(preds.shape)\n",
    "preds_list = [val for val in preds]\n",
    "df['visual_features'] = preds_list\n",
    "\n",
    "print(time() - start_time)\n",
    "df.head()\n"
   ],
   "metadata": {
    "collapsed": false,
    "ExecuteTime": {
     "start_time": "2023-06-20T20:30:55.735392Z",
     "end_time": "2023-06-20T20:30:57.864774Z"
    }
   }
  },
  {
   "cell_type": "code",
   "execution_count": 6,
   "outputs": [
    {
     "name": "stderr",
     "output_type": "stream",
     "text": [
      "100%|██████████| 3933/3933 [1:08:08<00:00,  1.04s/it, path=/home/rafa/SVW/Videos/baseball/2423___9845e29ab87745b082bfc50800996641.mp4, detections_num=(173, 11), load_time=0.396]       \n"
     ]
    }
   ],
   "source": [
    "progress = tqdm(videos)\n",
    "skipped = 0\n",
    "for vid_path in progress:\n",
    "    vid = Video(vid_path)\n",
    "    try:\n",
    "        df = vid.build_detections()\n",
    "    except:\n",
    "        continue\n",
    "\n",
    "    progress.set_postfix({'path':vid.video_path.as_posix(), 'detections_num': df.shape, 'skipped': skipped})\n",
    "    save_path = Video._add_suffix_to_path(vid_path, '_detections_avg_big_ext.pkl')\n",
    "    if save_path.exists() :\n",
    "        continue\n",
    "\n",
    "    if df.empty:\n",
    "        skipped += 1\n",
    "        with open('/home/rafa/SVW/skipped.txt', 'a') as file:\n",
    "            file.write(f'{vid_path.as_posix()} \\t - empty \\n')\n",
    "        continue\n",
    "\n",
    "    if  df.shape[0] > 2300:\n",
    "        skipped += 1\n",
    "        with open('/home/rafa/SVW/skipped.txt', 'a') as file:\n",
    "            file.write(f'{vid_path.as_posix()} \\t - long \\n')\n",
    "        continue\n",
    "\n",
    "    start_time = time()\n",
    "    vid_as_arr = get_video_as_array(vid)\n",
    "    df['visual_features'] = df.apply(lambda row: get_roi(row.frame_id, row.bbox), axis=1)\n",
    "    progress.set_postfix({'path': vid_path.as_posix(), 'detections_num': df.shape, 'load_time': time() - start_time})\n",
    "\n",
    "\n",
    "    rois = np.array(df['visual_features'].to_list())\n",
    "    preds = mobilenet.predict(rois, verbose=False)\n",
    "    preds_list = [val for val in preds]\n",
    "    df['visual_features'] = preds_list\n",
    "    df.to_pickle(save_path)\n",
    "\n",
    "\n"
   ],
   "metadata": {
    "collapsed": false,
    "ExecuteTime": {
     "start_time": "2023-05-15T15:32:40.314808Z",
     "end_time": "2023-05-15T16:40:49.062281Z"
    }
   }
  },
  {
   "cell_type": "code",
   "execution_count": 6,
   "outputs": [],
   "source": [
    "\n"
   ],
   "metadata": {
    "collapsed": false,
    "ExecuteTime": {
     "start_time": "2023-05-14T17:57:24.068390Z",
     "end_time": "2023-05-14T17:57:24.070818Z"
    }
   }
  }
 ],
 "metadata": {
  "kernelspec": {
   "display_name": "Python 3",
   "language": "python",
   "name": "python3"
  },
  "language_info": {
   "codemirror_mode": {
    "name": "ipython",
    "version": 2
   },
   "file_extension": ".py",
   "mimetype": "text/x-python",
   "name": "python",
   "nbconvert_exporter": "python",
   "pygments_lexer": "ipython2",
   "version": "2.7.6"
  }
 },
 "nbformat": 4,
 "nbformat_minor": 0
}
